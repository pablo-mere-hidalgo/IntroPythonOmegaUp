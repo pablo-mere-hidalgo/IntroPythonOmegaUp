{
  "nbformat": 4,
  "nbformat_minor": 0,
  "metadata": {
    "colab": {
      "name": "Ejercicios2B.ipynb",
      "provenance": [],
      "authorship_tag": "ABX9TyPftWRBs7qyX4axxJLmxWOd",
      "include_colab_link": true
    },
    "kernelspec": {
      "name": "python3",
      "display_name": "Python 3"
    },
    "language_info": {
      "name": "python"
    }
  },
  "cells": [
    {
      "cell_type": "markdown",
      "metadata": {
        "id": "view-in-github",
        "colab_type": "text"
      },
      "source": [
        "<a href=\"https://colab.research.google.com/github/pablo-mere-hidalgo/IntroPythonOmegaUp/blob/main/Ejercicios2B.ipynb\" target=\"_parent\"><img src=\"https://colab.research.google.com/assets/colab-badge.svg\" alt=\"Open In Colab\"/></a>"
      ]
    },
    {
      "cell_type": "markdown",
      "metadata": {
        "id": "c-dvyHpfs6Vv"
      },
      "source": [
        "# **Ejercicios 2-B**\n",
        "Ejercicios Python Omega Up"
      ]
    },
    {
      "cell_type": "markdown",
      "metadata": {
        "id": "dLiI9XXftFkT"
      },
      "source": [
        "# Ejercicio 1 : cuantos instructores hay?\n",
        "\n",
        "**Descripción**\n",
        "¡Chan chan chaaaaan 😈! Es hora de que resuelvan un pack de los famosos problemas realizados por Bubu, este es el problema fácil del pack cluberos 🚀.\n",
        "\n",
        "Para que Clubes de Ciencia México, sepa cuántos aspirantes aceptar en su edición de este año, es necesario que sepan la cantidad exacta de instructores que se van a tener, te voy a dejar como tarea que me los cuentes crack 😉.\n",
        "\n",
        "**Tarea:**\n",
        "Dada una lista de instructores, imprimir la cantidad de instructores que se tienen 🐼.\n",
        "\n",
        "Te recomiendo que leas bien los casos ejemplo\n",
        "\n",
        "**Entrada**\n",
        "Varios nombres de los instructores separados por espacios.\n",
        "\n",
        "**Salida**\n",
        "El número de instructores que habrá este año."
      ]
    },
    {
      "cell_type": "code",
      "metadata": {
        "colab": {
          "base_uri": "https://localhost:8080/"
        },
        "id": "H3KlUNXttXuc",
        "outputId": "6221d233-9687-46d4-9ae7-9e2ef85be633"
      },
      "source": [
        "instructores = input().split()\n",
        "print(len(instructores))"
      ],
      "execution_count": 3,
      "outputs": [
        {
          "output_type": "stream",
          "text": [
            "pablo mere hidalgo alcocer sandra\n",
            "5\n"
          ],
          "name": "stdout"
        }
      ]
    },
    {
      "cell_type": "markdown",
      "metadata": {
        "id": "t_HqWJtxut--"
      },
      "source": [
        "# Ejercicio 2 : Edades\n",
        "\n",
        "**Descripción**\n",
        "¡Bubulubuenas, cluberas y cluberos!🚀 Estamos muy emocionados de que tengan esa pasión por aprender y nosotros poder compartir nuestras experiencias y amor por la ciencia 🤓. En fin, todos los años recibimos muchísimos participantes en clubes, y personas completamente diferentes y de todas las edades.\n",
        "\n",
        "Tanto así, que Clubes de Ciencia 🇲🇽  asignó a una persona para que, dada una lista que contiene las edades de los participantes de clubes, les mostrara una lista de las edades distintas (sin repeticiones) de los participantes, ordenadas de mayor a menor (Ya sé, que exigente). Esta tarea me la asignaron a mí, su amigable vecino Bubu, pero como me gusta verlos sufrir (Solo un poco 😈), les delegaré esa tarea a ustedes.\n",
        "\n",
        "**Tarea:**\n",
        "Dada una lista de edades, imprimir una lista de las edades (Sin repeticiones) ordenadas de menor a mayor 🐼.\n",
        "\n",
        "**Tip:**\n",
        "En este problema usan todo lo visto en el video de esta sesión sobre, listas, conjuntos, funciones de listas y conjuntos, cast, slicing inverso, etc.\n",
        "\n",
        "**Tip2:**\n",
        "Para imprimir tu lista simplemente usa print(listaResultado), suponiendo que listaResultado es tu lista donde se encuentra la respuesta.\n",
        "\n",
        "Te recomiendo que leas bien los casos ejemplo\n",
        "\n",
        "**Entrada**\n",
        "Varios números enteros, separados por espacios.\n",
        "\n",
        "**Salida**\n",
        "Una lista de las edades distintas ordenadas de mayor a menor."
      ]
    },
    {
      "cell_type": "code",
      "metadata": {
        "colab": {
          "base_uri": "https://localhost:8080/"
        },
        "id": "m-Xkp_8XvhdP",
        "outputId": "0e995119-0cf0-49e8-a322-e952b13ec70c"
      },
      "source": [
        "edades = input().split()\n",
        "edades = [int(n) for n in edades]\n",
        "edades = set(edades)\n",
        "edades = list(edades)\n",
        "edades.sort()\n",
        "edades = edades[::-1]\n",
        "edades = [str(n) for n in edades]\n",
        "print(edades)"
      ],
      "execution_count": 11,
      "outputs": [
        {
          "output_type": "stream",
          "text": [
            "01 1 001 4 12 17 22 32 0053\n",
            "['53', '32', '22', '17', '12', '4', '1']\n"
          ],
          "name": "stdout"
        }
      ]
    },
    {
      "cell_type": "code",
      "metadata": {
        "colab": {
          "base_uri": "https://localhost:8080/"
        },
        "id": "UKfOL7Qyx1rX",
        "outputId": "54b795f8-f344-4a0e-a23b-35f342e94997"
      },
      "source": [
        "#Esto no funciona \n",
        "edades = input().split()\n",
        "edades = set(edades)\n",
        "edades = list(edades)\n",
        "edades.sort()\n",
        "print(edades[::-1])"
      ],
      "execution_count": 12,
      "outputs": [
        {
          "output_type": "stream",
          "text": [
            "01 1 001 4 12 17 22 32 0053\n",
            "['4', '32', '22', '17', '12', '1', '01', '0053', '001']\n"
          ],
          "name": "stdout"
        }
      ]
    }
  ]
}