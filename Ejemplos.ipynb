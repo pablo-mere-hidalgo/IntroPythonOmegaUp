{
  "nbformat": 4,
  "nbformat_minor": 0,
  "metadata": {
    "colab": {
      "name": "Ejemplos.ipynb",
      "provenance": [],
      "collapsed_sections": [],
      "include_colab_link": true
    },
    "kernelspec": {
      "name": "python3",
      "display_name": "Python 3"
    }
  },
  "cells": [
    {
      "cell_type": "markdown",
      "metadata": {
        "id": "view-in-github",
        "colab_type": "text"
      },
      "source": [
        "<a href=\"https://colab.research.google.com/github/pablo-mere-hidalgo/IntroPythonOmegaUp/blob/main/Ejemplos.ipynb\" target=\"_parent\"><img src=\"https://colab.research.google.com/assets/colab-badge.svg\" alt=\"Open In Colab\"/></a>"
      ]
    },
    {
      "cell_type": "markdown",
      "metadata": {
        "id": "GS61TG41Tlo9"
      },
      "source": [
        "# Listas\n",
        "- Las listas son secuencias ordenadas que pueden almacenar distintos tipos de objetos.\n",
        "- En pocas palabras, es como una variable que puede almacenar muchas cosas wuuu.\n",
        "- Se usan **[]** para indicar que es una lista y los objetos de la lista se separan por comas.\n",
        "- Se les puede hacer **indexing** y **slicing**.\n",
        "- Tienen **métodos** bastante útiles.\n"
      ]
    },
    {
      "cell_type": "code",
      "metadata": {
        "id": "Dv2P0hT-Tgor",
        "colab": {
          "base_uri": "https://localhost:8080/",
          "height": 87
        },
        "outputId": "b10bed6e-01fa-4f7d-f81c-4fd943810ecd"
      },
      "source": [
        "# Ejemplos de listas:\n",
        "# Lista de números enteros\n",
        "enteros = [1,2,3]\n",
        "print(enteros)\n",
        "# Lista de números flotantes\n",
        "flotantes = [1.1, 10.5, 2.5]\n",
        "print(flotantes)\n",
        "# Lista de strings\n",
        "nombres = [\"1\", \"2\", \"3\"]\n",
        "print(nombres)\n",
        "# Lista mixta\n",
        "mixta = [\"CdCMexico\", 10, 22.5]\n",
        "print(mixta)"
      ],
      "execution_count": null,
      "outputs": [
        {
          "output_type": "stream",
          "text": [
            "[1, 2, 3]\n",
            "[1.1, 10.5, 2.5]\n",
            "['1', '2', '3']\n",
            "['CdCMexico', 10, 22.5]\n"
          ],
          "name": "stdout"
        }
      ]
    },
    {
      "cell_type": "markdown",
      "metadata": {
        "id": "BvtHQJaZauUa"
      },
      "source": [
        "## Indexing y Slicing"
      ]
    },
    {
      "cell_type": "code",
      "metadata": {
        "id": "mmHtT3eRaqAg",
        "colab": {
          "base_uri": "https://localhost:8080/",
          "height": 70
        },
        "outputId": "b31b6079-b64d-4270-b26a-4f9c06fd0a9d"
      },
      "source": [
        "# Indexing\n",
        "lista_random = [\"CdC\", 2, 3.3, \"Hola\", \"Bubu\", 5, \"Laura\"]\n",
        "# Imprimimos el primer elemento\n",
        "print(lista_random[2])\n",
        "# También lo podemos guardar en otra variable si es necesario\n",
        "primer_elemento = lista_random[0]\n",
        "print(primer_elemento)\n",
        "# Podemos modificar las listas con esto:\n",
        "lista_random[4] = \"David\"\n",
        "print(lista_random)"
      ],
      "execution_count": null,
      "outputs": [
        {
          "output_type": "stream",
          "text": [
            "3.3\n",
            "CdC\n",
            "['CdC', 2, 3.3, 'Hola', 'David', 5, 'Laura']\n"
          ],
          "name": "stdout"
        }
      ]
    },
    {
      "cell_type": "code",
      "metadata": {
        "id": "v4_sIBxSfxXz",
        "colab": {
          "base_uri": "https://localhost:8080/",
          "height": 52
        },
        "outputId": "aec5b9e3-964a-4a63-de4d-bb341a57ed22"
      },
      "source": [
        "# Slicing\n",
        "# Imprimir los primeros dos elementos\n",
        "print(lista_random[0:3])\n",
        "# Guardar en una variable\n",
        "otra_lista = lista_random[5:7]\n",
        "print(otra_lista)"
      ],
      "execution_count": null,
      "outputs": [
        {
          "output_type": "stream",
          "text": [
            "['CdC', 2, 3.3]\n",
            "[5, 'Laura']\n"
          ],
          "name": "stdout"
        }
      ]
    },
    {
      "cell_type": "code",
      "metadata": {
        "id": "5b9CuLfc_WP_",
        "colab": {
          "base_uri": "https://localhost:8080/",
          "height": 52
        },
        "outputId": "23a72aff-641f-4cb3-cff8-602a864223fe"
      },
      "source": [
        "# Podemos agarrar solo los índices pares\n",
        "numeros = [1,2,3,4,5,6,7,8,9,10]\n",
        "impares = numeros[::2]\n",
        "print(impares)\n",
        "# O voltearlos\n",
        "voltiao = numeros[::-1]\n",
        "print(voltiao)"
      ],
      "execution_count": null,
      "outputs": [
        {
          "output_type": "stream",
          "text": [
            "[1, 3, 5, 7, 9]\n",
            "[10, 9, 8, 7, 6, 5, 4, 3, 2, 1]\n"
          ],
          "name": "stdout"
        }
      ]
    },
    {
      "cell_type": "code",
      "metadata": {
        "id": "9fYx14chhD0F",
        "colab": {
          "base_uri": "https://localhost:8080/",
          "height": 34
        },
        "outputId": "a797bb7d-3b97-471f-a17f-f732b1facd41"
      },
      "source": [
        "# Podemos sumar listas en Python (Concatenación)\n",
        "lista1 = [1,2,3,4,\"Rara\"]\n",
        "lista2 = [10.2, 3, \"Otra lista rara\"]\n",
        "lista3 = lista2 + lista1\n",
        "print(lista3)"
      ],
      "execution_count": null,
      "outputs": [
        {
          "output_type": "stream",
          "text": [
            "[10.2, 3, 'Otra lista rara', 1, 2, 3, 4, 'Rara']\n"
          ],
          "name": "stdout"
        }
      ]
    },
    {
      "cell_type": "markdown",
      "metadata": {
        "id": "S87MaFKGa-La"
      },
      "source": [
        "## Algunas funciones y métodos útiles."
      ]
    },
    {
      "cell_type": "code",
      "metadata": {
        "id": "8T2LUBORbB0U",
        "colab": {
          "base_uri": "https://localhost:8080/",
          "height": 34
        },
        "outputId": "78012506-42c8-46f1-aa9f-be0f822de9bd"
      },
      "source": [
        "# len()\n",
        "bubu_lista = [\"Radnom\", 10, 73, 35.2]\n",
        "# Muchas veces vamos a necesitar el tamaño de nuestra lista, eso se hace con len()\n",
        "n = len(bubu_lista)\n",
        "print(n)"
      ],
      "execution_count": null,
      "outputs": [
        {
          "output_type": "stream",
          "text": [
            "4\n"
          ],
          "name": "stdout"
        }
      ]
    },
    {
      "cell_type": "code",
      "metadata": {
        "id": "rE1lcwRXiUOp",
        "colab": {
          "base_uri": "https://localhost:8080/",
          "height": 34
        },
        "outputId": "82472f94-0775-402d-951e-f796c92b2857"
      },
      "source": [
        "# sum()\n",
        "bubu_numeros = [1, 2, 3, 4, 10.5]\n",
        "# Si queremos obtener la suma de todos los elementos de la lista usamos sum()\n",
        "suma = sum(bubu_numeros)\n",
        "print(suma)"
      ],
      "execution_count": null,
      "outputs": [
        {
          "output_type": "stream",
          "text": [
            "20.5\n"
          ],
          "name": "stdout"
        }
      ]
    },
    {
      "cell_type": "code",
      "metadata": {
        "id": "OlJ7AaI8iuPZ",
        "colab": {
          "base_uri": "https://localhost:8080/",
          "height": 202
        },
        "outputId": "c05f0bb4-944f-47d5-ad5f-6290c0501f75"
      },
      "source": [
        "# Esto es un error, no se pueden sumar las cadenas con esta función.\n",
        "new_list = [\"Hola\", \"Adios\"]\n",
        "sum(new_list)"
      ],
      "execution_count": null,
      "outputs": [
        {
          "output_type": "error",
          "ename": "TypeError",
          "evalue": "ignored",
          "traceback": [
            "\u001b[0;31m---------------------------------------------------------------------------\u001b[0m",
            "\u001b[0;31mTypeError\u001b[0m                                 Traceback (most recent call last)",
            "\u001b[0;32m<ipython-input-17-4071849b830d>\u001b[0m in \u001b[0;36m<module>\u001b[0;34m()\u001b[0m\n\u001b[1;32m      1\u001b[0m \u001b[0;31m# Esto es un error, no se pueden sumar las cadenas con esta función.\u001b[0m\u001b[0;34m\u001b[0m\u001b[0;34m\u001b[0m\u001b[0;34m\u001b[0m\u001b[0m\n\u001b[1;32m      2\u001b[0m \u001b[0mnew_list\u001b[0m \u001b[0;34m=\u001b[0m \u001b[0;34m[\u001b[0m\u001b[0;34m\"Hola\"\u001b[0m\u001b[0;34m,\u001b[0m \u001b[0;34m\"Adios\"\u001b[0m\u001b[0;34m]\u001b[0m\u001b[0;34m\u001b[0m\u001b[0;34m\u001b[0m\u001b[0m\n\u001b[0;32m----> 3\u001b[0;31m \u001b[0msum\u001b[0m\u001b[0;34m(\u001b[0m\u001b[0mnew_list\u001b[0m\u001b[0;34m)\u001b[0m\u001b[0;34m\u001b[0m\u001b[0;34m\u001b[0m\u001b[0m\n\u001b[0m",
            "\u001b[0;31mTypeError\u001b[0m: unsupported operand type(s) for +: 'int' and 'str'"
          ]
        }
      ]
    },
    {
      "cell_type": "markdown",
      "metadata": {
        "id": "IbA_fzszkMBK"
      },
      "source": [
        "## Agregar elementos a una lista."
      ]
    },
    {
      "cell_type": "code",
      "metadata": {
        "id": "akBzljJBix7k",
        "colab": {
          "base_uri": "https://localhost:8080/",
          "height": 52
        },
        "outputId": "f556e23a-35bf-41aa-bc20-37e27282d816"
      },
      "source": [
        "lista = [\"CdC\", 2, 3.3, \"Hola\", \"Bubu\", 5, \"Laura\"]\n",
        "# Append\n",
        "lista.append([73,\"Lista de listas\"])\n",
        "print(lista)\n",
        "# Insert\n",
        "lista.insert(1, \"segunda posicion\")\n",
        "print(lista)"
      ],
      "execution_count": null,
      "outputs": [
        {
          "output_type": "stream",
          "text": [
            "['CdC', 2, 3.3, 'Hola', 'Bubu', 5, 'Laura', [73, 'Lista de listas']]\n",
            "['CdC', 'segunda posicion', 2, 3.3, 'Hola', 'Bubu', 5, 'Laura', [73, 'Lista de listas']]\n"
          ],
          "name": "stdout"
        }
      ]
    },
    {
      "cell_type": "markdown",
      "metadata": {
        "id": "b2nw_liXlnmC"
      },
      "source": [
        "## Eliminando cosas de una lista"
      ]
    },
    {
      "cell_type": "code",
      "metadata": {
        "id": "g4kblfNJlmi0",
        "colab": {
          "base_uri": "https://localhost:8080/",
          "height": 87
        },
        "outputId": "11f1f9b5-9a01-4cd8-cb73-61689531def4"
      },
      "source": [
        "# Pop\n",
        "lista.pop()\n",
        "print(lista)\n",
        "# Podemos guardar lo que pop nos regresa\n",
        "item_eliminado = lista.pop()\n",
        "print(item_eliminado)\n",
        "print(lista)\n",
        "# Podemos específicar la posición del popeo\n",
        "lista.pop(3)\n",
        "print(lista)"
      ],
      "execution_count": null,
      "outputs": [
        {
          "output_type": "stream",
          "text": [
            "['CdC', 'segunda posicion', 2, 3.3, 'Hola', 'Bubu']\n",
            "Bubu\n",
            "['CdC', 'segunda posicion', 2, 3.3, 'Hola']\n",
            "['CdC', 'segunda posicion', 2, 'Hola']\n"
          ],
          "name": "stdout"
        }
      ]
    },
    {
      "cell_type": "markdown",
      "metadata": {
        "id": "_Hsw6NtZmmBq"
      },
      "source": [
        "## Ordenar cosas"
      ]
    },
    {
      "cell_type": "code",
      "metadata": {
        "id": "kFi-biA_mjPF",
        "colab": {
          "base_uri": "https://localhost:8080/",
          "height": 52
        },
        "outputId": "7701914d-ae25-48c9-ca22-4f61d932b0a9"
      },
      "source": [
        "numeros = [1, 5, 2, 9, 10, 8, 5]\n",
        "letras = ['x', 'a', 'b', 'y', 'u']\n",
        "# sort() NO REGRESA NADA\n",
        "numeros.sort()\n",
        "letras.sort()\n",
        "print(numeros)\n",
        "print(letras)\n"
      ],
      "execution_count": null,
      "outputs": [
        {
          "output_type": "stream",
          "text": [
            "[1, 2, 5, 5, 8, 9, 10]\n",
            "['a', 'b', 'u', 'x', 'y']\n"
          ],
          "name": "stdout"
        }
      ]
    },
    {
      "cell_type": "markdown",
      "metadata": {
        "id": "YeAAGWNIoviK"
      },
      "source": [
        "# Tuplas\n",
        "- Las tuplas son parecidas a las listas. \n",
        "- Se diferencían en que las tuplas son inmutables. Es decir, una vez que un elemento está dentro de una tupla, no puede ser reasignada.\n",
        "- Usan paréntesis **()**"
      ]
    },
    {
      "cell_type": "code",
      "metadata": {
        "id": "JRIDplrmouRD",
        "colab": {
          "base_uri": "https://localhost:8080/",
          "height": 220
        },
        "outputId": "d64ac9a3-335b-4890-ac7e-38938b1c49f8"
      },
      "source": [
        "# Ejemplo\n",
        "tupla = (1,2,3,4,5)\n",
        "lista = [1,2,3,4,5]\n",
        "# Las listas sí se pueden modificar\n",
        "lista[0] = 0\n",
        "print(lista)\n",
        "# Pero las tuplas no\n",
        "tupla[0] = 0"
      ],
      "execution_count": null,
      "outputs": [
        {
          "output_type": "stream",
          "text": [
            "[0, 2, 3, 4, 5]\n"
          ],
          "name": "stdout"
        },
        {
          "output_type": "error",
          "ename": "TypeError",
          "evalue": "ignored",
          "traceback": [
            "\u001b[0;31m---------------------------------------------------------------------------\u001b[0m",
            "\u001b[0;31mTypeError\u001b[0m                                 Traceback (most recent call last)",
            "\u001b[0;32m<ipython-input-30-43ffcf7a9ea3>\u001b[0m in \u001b[0;36m<module>\u001b[0;34m()\u001b[0m\n\u001b[1;32m      6\u001b[0m \u001b[0mprint\u001b[0m\u001b[0;34m(\u001b[0m\u001b[0mlista\u001b[0m\u001b[0;34m)\u001b[0m\u001b[0;34m\u001b[0m\u001b[0;34m\u001b[0m\u001b[0m\n\u001b[1;32m      7\u001b[0m \u001b[0;31m# Pero las tuplas no\u001b[0m\u001b[0;34m\u001b[0m\u001b[0;34m\u001b[0m\u001b[0;34m\u001b[0m\u001b[0m\n\u001b[0;32m----> 8\u001b[0;31m \u001b[0mtupla\u001b[0m\u001b[0;34m[\u001b[0m\u001b[0;36m0\u001b[0m\u001b[0;34m]\u001b[0m \u001b[0;34m=\u001b[0m \u001b[0;36m0\u001b[0m\u001b[0;34m\u001b[0m\u001b[0;34m\u001b[0m\u001b[0m\n\u001b[0m",
            "\u001b[0;31mTypeError\u001b[0m: 'tuple' object does not support item assignment"
          ]
        }
      ]
    },
    {
      "cell_type": "code",
      "metadata": {
        "id": "K5gdLmiO8Vlv",
        "colab": {
          "base_uri": "https://localhost:8080/",
          "height": 52
        },
        "outputId": "85859fda-6c7f-4a43-d1dc-725b9a62bdc9"
      },
      "source": [
        "# Aún así, podemos hacer indexing o slicing\n",
        "print(tupla[-1])\n",
        "print(tupla[::2])\n",
        "# Y realmente todo lo que hacen con listas se puede hacer con tuplas"
      ],
      "execution_count": null,
      "outputs": [
        {
          "output_type": "stream",
          "text": [
            "5\n",
            "(1, 3, 5)\n"
          ],
          "name": "stdout"
        }
      ]
    },
    {
      "cell_type": "markdown",
      "metadata": {
        "id": "nFF-_vRw8882"
      },
      "source": [
        "## Count() e Index()"
      ]
    },
    {
      "cell_type": "code",
      "metadata": {
        "id": "6OVxY8zt8BYg",
        "colab": {
          "base_uri": "https://localhost:8080/",
          "height": 52
        },
        "outputId": "70219aa2-3c09-4b15-e81d-af5af6cacd8e"
      },
      "source": [
        "t = ('Bubu', 'Laura', 'Missa', 'Bubu')\n",
        "# .count()\n",
        "bubus = t.count(\"Bubu\")\n",
        "print(bubus)\n",
        "# .index\n",
        "index = t.index(\"Bubu\")\n",
        "print(index)\n"
      ],
      "execution_count": null,
      "outputs": [
        {
          "output_type": "stream",
          "text": [
            "2\n",
            "0\n"
          ],
          "name": "stdout"
        }
      ]
    },
    {
      "cell_type": "markdown",
      "metadata": {
        "id": "bEs3TFPVJfWT"
      },
      "source": [
        "# Diccionarios"
      ]
    },
    {
      "cell_type": "code",
      "metadata": {
        "id": "v6SJFasP9MKV",
        "colab": {
          "base_uri": "https://localhost:8080/",
          "height": 52
        },
        "outputId": "625668aa-21f8-4778-de41-8eaa23d2e845"
      },
      "source": [
        "# Creamos un diccionario simple\n",
        "diccionario = {\"key1\":\"value1\", \"key2\":\"value2\"}\n",
        "# Una manera más \"bonita\" de crear diccionarios\n",
        "diccionario = {\n",
        "    \"key1\":\"value1\",\n",
        "    \"key2\":\"value2\"\n",
        "}\n",
        "print(diccionario)\n",
        "# Para agarrar valores\n",
        "print(diccionario['key2'])"
      ],
      "execution_count": null,
      "outputs": [
        {
          "output_type": "stream",
          "text": [
            "{'key1': 'value1', 'key2': 'value2'}\n",
            "value2\n"
          ],
          "name": "stdout"
        }
      ]
    },
    {
      "cell_type": "code",
      "metadata": {
        "id": "B7QJ6SeNNCl9",
        "colab": {
          "base_uri": "https://localhost:8080/",
          "height": 52
        },
        "outputId": "42d5006d-5b81-49f2-e6b6-4d6a2b52a6c9"
      },
      "source": [
        "# Las \"keys\" pueden tener el nombre que ustedes quieran y \n",
        "# los valores pueden ser cualquier objeto que ya vimos antes\n",
        "precios = {\n",
        "    \"manzana\":7,\n",
        "    \"agua\":10.5,\n",
        "    \"takis\": 12,\n",
        "    \"doritos\": 12\n",
        "}\n",
        "\n",
        "# Hey! quiero saber cuánto cuestan los taki taki rumba\n",
        "print(precios['takis'])\n",
        "print(precios['manzana'])\n"
      ],
      "execution_count": null,
      "outputs": [
        {
          "output_type": "stream",
          "text": [
            "12\n",
            "7\n"
          ],
          "name": "stdout"
        }
      ]
    },
    {
      "cell_type": "code",
      "metadata": {
        "id": "0oprXqoUOV8D",
        "colab": {
          "base_uri": "https://localhost:8080/",
          "height": 87
        },
        "outputId": "6f9dd21a-69c2-423b-bb0c-79c9cc3cd0fa"
      },
      "source": [
        "# Puedes hacer diccionarios de listas y diccionarios de diccionarios!\n",
        "d = {\n",
        "    \"k1\":[1,2,3,4],\n",
        "     \"d1\": {\"k11\":\"Hola\", \"k12\":\"Adios\"}\n",
        "}\n",
        "# Para acceder a esos datos podemos hacer lo siguiente\n",
        "print(d[\"k1\"])\n",
        "print(d[\"d1\"])\n",
        "print(d[\"k1\"][-1])\n",
        "print(d[\"d1\"][\"k12\"])\n",
        "\n",
        "# Esto es útil cuando trabajas con API's y algunas otras cosas."
      ],
      "execution_count": null,
      "outputs": [
        {
          "output_type": "stream",
          "text": [
            "[1, 2, 3, 4]\n",
            "{'k11': 'Hola', 'k12': 'Adios'}\n",
            "4\n",
            "Adios\n"
          ],
          "name": "stdout"
        }
      ]
    },
    {
      "cell_type": "markdown",
      "metadata": {
        "id": "NgRbM1iLRo9C"
      },
      "source": [
        "## Agregar cosas a diccionarios"
      ]
    },
    {
      "cell_type": "code",
      "metadata": {
        "id": "0Qw6eb0DQc0o",
        "colab": {
          "base_uri": "https://localhost:8080/",
          "height": 52
        },
        "outputId": "cea3b4e6-da3b-4f42-f72f-59ba16a1e74b"
      },
      "source": [
        "# Digamos que \n",
        "d = {\"k1\":100, \"k2\":200}\n",
        "print(d)\n",
        "# Queremos meter un k3 que valta 300 por ejemplo:\n",
        "d['k3'] = 300\n",
        "print(d)"
      ],
      "execution_count": null,
      "outputs": [
        {
          "output_type": "stream",
          "text": [
            "{'k1': 100, 'k2': 200}\n",
            "{'k1': 100, 'k2': 200, 'k3': 300}\n"
          ],
          "name": "stdout"
        }
      ]
    },
    {
      "cell_type": "code",
      "metadata": {
        "id": "dTuL-tLrR4Zq",
        "colab": {
          "base_uri": "https://localhost:8080/",
          "height": 34
        },
        "outputId": "bc3c2aae-a70a-4b22-85b7-8d28db34e3c3"
      },
      "source": [
        "# También podemos sustiuir lo que ya teníamos\n",
        "d[\"k1\"] = \"hola\"\n",
        "print(d)"
      ],
      "execution_count": null,
      "outputs": [
        {
          "output_type": "stream",
          "text": [
            "{'k1': 'hola', 'k2': 200, 'k3': 300}\n"
          ],
          "name": "stdout"
        }
      ]
    },
    {
      "cell_type": "markdown",
      "metadata": {
        "id": "2Sj0MbrDTmKq"
      },
      "source": [
        "## Métodos especiales para diccionarios"
      ]
    },
    {
      "cell_type": "code",
      "metadata": {
        "id": "a-n0Z42yTYH4",
        "colab": {
          "base_uri": "https://localhost:8080/",
          "height": 70
        },
        "outputId": "b7ad7254-378b-4b6b-891d-515a61e27ee5"
      },
      "source": [
        "# keys()\n",
        "print(d.keys())\n",
        "# values()\n",
        "print(d.values())\n",
        "# items()\n",
        "print(d.items())"
      ],
      "execution_count": null,
      "outputs": [
        {
          "output_type": "stream",
          "text": [
            "dict_keys(['k1', 'k2', 'k3'])\n",
            "dict_values(['hola', 200, 300])\n",
            "dict_items([('k1', 'hola'), ('k2', 200), ('k3', 300)])\n"
          ],
          "name": "stdout"
        }
      ]
    },
    {
      "cell_type": "markdown",
      "metadata": {
        "id": "_VFkFFNunZp2"
      },
      "source": [
        "# Conjuntos"
      ]
    },
    {
      "cell_type": "code",
      "metadata": {
        "id": "fHPoFzx0nZHk",
        "colab": {
          "base_uri": "https://localhost:8080/",
          "height": 34
        },
        "outputId": "21debd6e-8394-49f0-926d-43c0e30b2c24"
      },
      "source": [
        "# Conjunto básico\n",
        "conjunto = {10,12,'a',10,'b','a'}\n",
        "# Elementos únicos\n",
        "print(conjunto)\n",
        "# Podemos ver que se imprime en un orden distinto (normal) y solo se imprimen elementos únicos."
      ],
      "execution_count": null,
      "outputs": [
        {
          "output_type": "stream",
          "text": [
            "{10, 'a', 12, 'b'}\n"
          ],
          "name": "stdout"
        }
      ]
    },
    {
      "cell_type": "code",
      "metadata": {
        "id": "aVkO70DFpYsw",
        "colab": {
          "base_uri": "https://localhost:8080/",
          "height": 34
        },
        "outputId": "b01690a7-b6a1-4084-8fe4-e303bf6ab2a4"
      },
      "source": [
        "# Ejemplo: (Edades de alumnos)\n",
        "edades = [12, 12, 8, 6, 9, 8]\n",
        "edades = set(edades)\n",
        "edades = list(edades)\n",
        "edades.sort()\n",
        "print(edades[::-1])\n",
        "# Lo puedo volver a convertir a lista y luego ordenarlo\n",
        "# ¡Lo van a usar para un problema más adelante!"
      ],
      "execution_count": null,
      "outputs": [
        {
          "output_type": "stream",
          "text": [
            "[12, 9, 8, 6]\n"
          ],
          "name": "stdout"
        }
      ]
    },
    {
      "cell_type": "code",
      "metadata": {
        "id": "DZeqZym6qNqb",
        "colab": {
          "base_uri": "https://localhost:8080/",
          "height": 52
        },
        "outputId": "e4474a09-a66f-48e2-dc2d-c1bef9f2332d"
      },
      "source": [
        "# problema\n",
        "nombres = input().split(\" \")\n",
        "print(len(nombres))"
      ],
      "execution_count": null,
      "outputs": [
        {
          "output_type": "stream",
          "text": [
            "Laura Bubu Rodo Missa Zaid David Regina\n",
            "7\n"
          ],
          "name": "stdout"
        }
      ]
    },
    {
      "cell_type": "code",
      "metadata": {
        "id": "XKJNio8tKleN"
      },
      "source": [
        ""
      ],
      "execution_count": null,
      "outputs": []
    }
  ]
}