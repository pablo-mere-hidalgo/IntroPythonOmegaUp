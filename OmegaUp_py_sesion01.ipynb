{
  "nbformat": 4,
  "nbformat_minor": 0,
  "metadata": {
    "colab": {
      "name": "OmegaUp.py-sesion01.ipynb",
      "provenance": [],
      "collapsed_sections": [
        "E56N4zpBd3F0",
        "rH0Qe_2a5OW4"
      ],
      "toc_visible": true,
      "include_colab_link": true
    },
    "kernelspec": {
      "name": "python3",
      "display_name": "Python 3"
    }
  },
  "cells": [
    {
      "cell_type": "markdown",
      "metadata": {
        "id": "view-in-github",
        "colab_type": "text"
      },
      "source": [
        "<a href=\"https://colab.research.google.com/github/pablo-mere-hidalgo/IntroPythonOmegaUp/blob/main/OmegaUp_py_sesion01.ipynb\" target=\"_parent\"><img src=\"https://colab.research.google.com/assets/colab-badge.svg\" alt=\"Open In Colab\"/></a>"
      ]
    },
    {
      "cell_type": "markdown",
      "metadata": {
        "id": "kn6FX_rtdhyA"
      },
      "source": [
        "# Introducción a Google Colab\n",
        "¡Bienvenid@ a Google Colab!\n",
        "Google Colab es un entorno basado en [Jupyter Notebook](https://jupyter.org)s alojado y servido en la nube por Google.\n",
        "\n",
        "Aquí podrás editar texto y código al mismo tiempo. Esto te permitirá intercactuar con tu código de manera más intuitiva con documentación dentro del mismo entorno de ejecución."
      ]
    },
    {
      "cell_type": "markdown",
      "metadata": {
        "id": "E56N4zpBd3F0"
      },
      "source": [
        "## Tipos de Celdas\n",
        "\n",
        "Existen dos tipos de celdas que puedes utilizar en Google Colab: de texto y de código."
      ]
    },
    {
      "cell_type": "markdown",
      "metadata": {
        "id": "Ws3uujJw4czs"
      },
      "source": [
        "### Celdas de Texto\n",
        "\n",
        "Dentro de estas celdas, podrás utilizar el editor de texto que se muestra en la celda y/o texto en formato [markdown](https://markdown.es/sintaxis-markdown/) para documentar tu código, escribir observaciones, explicaciones y/o reflexiones sobre el proyecto.\n",
        "\n"
      ]
    },
    {
      "cell_type": "markdown",
      "metadata": {
        "id": "o1ZGbtR44epB"
      },
      "source": [
        "### Celdas de Código\n",
        "\n",
        "Estas celdas, te permitirán escribir código en el lenguaje Python que podrás ejecutar de manera interactiva e iterativa. Es decir, podrás realizar ajustes al momento en tu código y correr nuevamente el bloque de código necesario."
      ]
    },
    {
      "cell_type": "code",
      "metadata": {
        "id": "xIaOXtnge5gW"
      },
      "source": [
        "print(\"Esta es una celda de código! 😃\")"
      ],
      "execution_count": null,
      "outputs": []
    },
    {
      "cell_type": "markdown",
      "metadata": {
        "id": "rH0Qe_2a5OW4"
      },
      "source": [
        "# Programa de Ejemplo\n",
        "A continuación, realizaremos dos versiones del clásico programa de inicio, \"¡Hola, mundo!\", una básica y una un poco más interesante:"
      ]
    },
    {
      "cell_type": "code",
      "metadata": {
        "id": "6uJLJHYT5eJq"
      },
      "source": [
        "# Primera versión del \"¡Hola, mundo!\"\n",
        "print(\"¡Hola, mundo! 🌎\")"
      ],
      "execution_count": null,
      "outputs": []
    },
    {
      "cell_type": "code",
      "metadata": {
        "id": "le4BLKWD5uAt"
      },
      "source": [
        "# Segunda versión del \"¡Hola, mundo!\"\n",
        "nombre = input(\"¿Cómo te llamas?: \")\n",
        "print(\"¡Hola, \" + nombre + \"! 👋\")"
      ],
      "execution_count": null,
      "outputs": []
    },
    {
      "cell_type": "markdown",
      "metadata": {
        "id": "DxZXMLdUimTz"
      },
      "source": [
        "# ¡Retos Semanales!\n",
        "A continuación, te planteamos unos retos para que realices durante la seamana.\n",
        "* Si te gustan los perros, averigua cómo activar el **modo corgi**. 🐕\n",
        "* Si por otro lado, prefieres los gatos, intenta activar el **modo gatito**. 🐱\n",
        "* Si quieres ser un super programador de Python, intenta encontrar el **modo de poder**. 🔥\n",
        "\n",
        "# Lectura Recomendada\n",
        "A continuación, encontrarás _links_ a sitios con información para expandir tu conocimiento sobre los temas presentados.\n",
        "* Sitio web del [Jupyter Notebook](https://jupyter.org/).\n",
        "* Sitio web de [Python](https://www.python.org/)."
      ]
    }
  ]
}