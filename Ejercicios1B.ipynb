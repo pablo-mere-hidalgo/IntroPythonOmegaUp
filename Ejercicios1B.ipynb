{
  "nbformat": 4,
  "nbformat_minor": 0,
  "metadata": {
    "colab": {
      "name": "Ejercicios1B.ipynb",
      "provenance": [],
      "authorship_tag": "ABX9TyPMWN6rVkhjTWQC9Z9zpp0P",
      "include_colab_link": true
    },
    "kernelspec": {
      "name": "python3",
      "display_name": "Python 3"
    },
    "language_info": {
      "name": "python"
    }
  },
  "cells": [
    {
      "cell_type": "markdown",
      "metadata": {
        "id": "view-in-github",
        "colab_type": "text"
      },
      "source": [
        "<a href=\"https://colab.research.google.com/github/pablo-mere-hidalgo/IntroPythonOmegaUp/blob/main/Ejercicios1B.ipynb\" target=\"_parent\"><img src=\"https://colab.research.google.com/assets/colab-badge.svg\" alt=\"Open In Colab\"/></a>"
      ]
    },
    {
      "cell_type": "markdown",
      "metadata": {
        "id": "ViCYlEg2Pz2B"
      },
      "source": [
        "# **Ejercicios 1-B**\n",
        " Curso introduccion a Python de Omega Up "
      ]
    },
    {
      "cell_type": "markdown",
      "metadata": {
        "id": "Zx91_bFMQOBI"
      },
      "source": [
        "#Ejercicio 1 : Hola Mundo\n",
        "\n",
        "**Descripción**\n",
        "El primer programa que debes escribir es el famoso Hola Mundo.\n",
        "\n",
        "**Entrada**\n",
        "Por ahora no tiene entrada. Simplemente vas a imprimir.\n",
        "\n",
        "**Salida**\n",
        "Debes escribir \"Hola Mundo\", sin comillas.\n",
        "\n",
        "Para enviar tu código, haz clic en el botón que se encuentra en la parte de abajo. Cuando aparezca una ventana, selecciona como lenguaje Python y ten cuidado de hacer lo siguiente:\n",
        "\n",
        "Copia y pega el código que tienes y funciona en tu computadora."
      ]
    },
    {
      "cell_type": "code",
      "metadata": {
        "colab": {
          "base_uri": "https://localhost:8080/"
        },
        "id": "LNibUDW0QRef",
        "outputId": "67f21e1c-fcc1-40ed-a6e9-5ce0f3224f7e"
      },
      "source": [
        "print('Hola mundo')"
      ],
      "execution_count": 1,
      "outputs": [
        {
          "output_type": "stream",
          "text": [
            "Hola mundo\n"
          ],
          "name": "stdout"
        }
      ]
    },
    {
      "cell_type": "markdown",
      "metadata": {
        "id": "npw8MxOEQtig"
      },
      "source": [
        "#Ejercicio 2 : Suma\n",
        "\n",
        "**Descripción**\n",
        "Se te darán dos números enteros que deberás sumar.\n",
        "\n",
        "**Entrada**\n",
        "La entrada contiene una línea con dos números enteros separados por un espacio.\n",
        "\n",
        "**Salida**\n",
        "La salida deberá contener la suma de los dos valores."
      ]
    },
    {
      "cell_type": "code",
      "metadata": {
        "colab": {
          "base_uri": "https://localhost:8080/"
        },
        "id": "A6SHxyi9Q3xq",
        "outputId": "da9512d2-27e0-4b84-91be-a4b8b437ad90"
      },
      "source": [
        "a, b = input().split()\n",
        "a=int(a)\n",
        "b=int(b)\n",
        "print(a+b)"
      ],
      "execution_count": 5,
      "outputs": [
        {
          "output_type": "stream",
          "text": [
            "3 54\n",
            "57\n"
          ],
          "name": "stdout"
        }
      ]
    },
    {
      "cell_type": "markdown",
      "metadata": {
        "id": "WmQfN7yqSZ4D"
      },
      "source": [
        "#Ejercicio 3 : Promedios\n",
        "\n",
        "El profe de Pepito tiene que sacar los promedios de sus alumnos, por lo que quiere que diseñes un programa que le ayude a calcular su calificación final promediando la calificación de los 5 exámenes. Ten en cuenta que la calificación no admite decimales y se evalua sobre 10.\n",
        "\n",
        "**Entrada**\n",
        "5 números enteros separados por un espacio con la calificación de cada examen\n",
        "\n",
        "**Salida**\n",
        "un solo número, con el promedio del alumno."
      ]
    },
    {
      "cell_type": "code",
      "metadata": {
        "colab": {
          "base_uri": "https://localhost:8080/"
        },
        "id": "34lbF1UrScH8",
        "outputId": "288e96ea-4461-486f-a16f-b8d0628c303c"
      },
      "source": [
        "a, b, c, d, e = input().split()\n",
        "a=int(a)\n",
        "b=int(b)\n",
        "c=int(c)\n",
        "d=int(d)\n",
        "e=int(e)\n",
        "s=int((a+b+c+d+e)/5)\n",
        "print(s)"
      ],
      "execution_count": 4,
      "outputs": [
        {
          "output_type": "stream",
          "text": [
            "9 6 5 7 10\n",
            "7\n"
          ],
          "name": "stdout"
        }
      ]
    },
    {
      "cell_type": "markdown",
      "metadata": {
        "id": "zHWU9qVMTco5"
      },
      "source": [
        "#Ejercicio 4 : La chicharronera\n",
        "Juanito está cansado de resolver ecuaciones como esta:\n",
        "Ax^2+Bx+C=0\n",
        "\n",
        "y su profesor malvado de matemáticas le ha dejado mas de 10,000 problemas 😨. ¡Ayuda a Juanito a hacer su tarea!.\n",
        "\n",
        "Haz un programa que utilice la famosa formula chicharronera (o formula general) para hacer su tarea.\n",
        "\n",
        "\n",
        "**Entrada**\n",
        "Tres números, ,  y  separados por un espacio, correspondientes a los coeficientes de la ecuación cuadrática .\n",
        "\n",
        "**Salida**\n",
        "Dos números,  y , solución de la ecuación cuadrática, separados por un espacio. Para  utiliza el signo positivo y para  utiliza el signo negativo de la ecuación."
      ]
    },
    {
      "cell_type": "code",
      "metadata": {
        "colab": {
          "base_uri": "https://localhost:8080/"
        },
        "id": "JHMAKJpXT6V0",
        "outputId": "a2afe897-9a3b-4eb0-cd4e-ed560a3cc463"
      },
      "source": [
        "a, b, c = input().split()\n",
        "a = float(a)\n",
        "b = float(b)\n",
        "c = float(c)\n",
        "if (a != 0) :\n",
        "    x_1 = (-b + (b**2-4*a*c)**(1/2.0))/(2.0*a)\n",
        "    x_2 = (-b - (b**2-4*a*c)**(1/2.0))/(2.0*a)\n",
        "    print(x_1, x_2)"
      ],
      "execution_count": 17,
      "outputs": [
        {
          "output_type": "stream",
          "text": [
            "1 1 -6\n",
            "2.0 -3.0\n"
          ],
          "name": "stdout"
        }
      ]
    },
    {
      "cell_type": "markdown",
      "metadata": {
        "id": "xrV2r9SCWv4M"
      },
      "source": [
        "#Ejercicio 5\n",
        "\n",
        "**Descripcion**\n",
        "Dentro de poco será Semana Santa y como vives en Coyoacán, sabes que habrá muchos turistas pidiendo tu ayuda para ubicarse y manejar dinero mexicano.\n",
        "\n",
        "Como consideras que siempre es bueno practicar tu francés o inglés y eres buena persona, decides ayudarles y crear una aplicación que convierta dólares en pesos para que no vayan a pagar de más –o de menos- en los museos y establecimientos.\n",
        "\n",
        "**Entrada**\n",
        "Un entero N que representa la cantidad en dólares y un entero K que representa el tipo de cambio de dólares por pesos.\n",
        "\n",
        "**Salida**\n",
        "La equivalencia en pesos de los  dólares introducidos."
      ]
    },
    {
      "cell_type": "code",
      "metadata": {
        "colab": {
          "base_uri": "https://localhost:8080/"
        },
        "id": "c0FVIx_aXUzd",
        "outputId": "cab684ec-3232-44c4-ef94-9aeaadad86b9"
      },
      "source": [
        "n = int(input())\n",
        "k = int(input())\n",
        "print(n*k)"
      ],
      "execution_count": 18,
      "outputs": [
        {
          "output_type": "stream",
          "text": [
            "1\n",
            "13\n",
            "13\n"
          ],
          "name": "stdout"
        }
      ]
    }
  ]
}